{
 "cells": [
  {
   "cell_type": "code",
   "execution_count": 55,
   "metadata": {},
   "outputs": [],
   "source": [
    "import pandas as pd\n",
    "from xgboost import XGBClassifier as XGBC\n",
    "from sklearn.model_selection import train_test_split\n",
    "from sklearn.metrics import accuracy_score,precision_score,recall_score,f1_score,confusion_matrix as cm, roc_auc_score as auc"
   ]
  },
  {
   "cell_type": "code",
   "execution_count": 2,
   "metadata": {},
   "outputs": [
    {
     "name": "stdout",
     "output_type": "stream",
     "text": [
      "(1925, 231)\n",
      "<class 'pandas.core.frame.DataFrame'>\n",
      "RangeIndex: 1925 entries, 0 to 1924\n",
      "Data columns (total 231 columns):\n",
      " #   Column                            Non-Null Count  Dtype  \n",
      "---  ------                            --------------  -----  \n",
      " 0   PATIENT_VISIT_IDENTIFIER          1925 non-null   int64  \n",
      " 1   AGE_ABOVE65                       1925 non-null   int64  \n",
      " 2   AGE_PERCENTIL                     1925 non-null   object \n",
      " 3   GENDER                            1925 non-null   int64  \n",
      " 4   DISEASE GROUPING 1                1920 non-null   float64\n",
      " 5   DISEASE GROUPING 2                1920 non-null   float64\n",
      " 6   DISEASE GROUPING 3                1920 non-null   float64\n",
      " 7   DISEASE GROUPING 4                1920 non-null   float64\n",
      " 8   DISEASE GROUPING 5                1920 non-null   float64\n",
      " 9   DISEASE GROUPING 6                1920 non-null   float64\n",
      " 10  HTN                               1920 non-null   float64\n",
      " 11  IMMUNOCOMPROMISED                 1920 non-null   float64\n",
      " 12  OTHER                             1920 non-null   float64\n",
      " 13  ALBUMIN_MEDIAN                    821 non-null    float64\n",
      " 14  ALBUMIN_MEAN                      821 non-null    float64\n",
      " 15  ALBUMIN_MIN                       821 non-null    float64\n",
      " 16  ALBUMIN_MAX                       821 non-null    float64\n",
      " 17  ALBUMIN_DIFF                      821 non-null    float64\n",
      " 18  BE_ARTERIAL_MEDIAN                821 non-null    float64\n",
      " 19  BE_ARTERIAL_MEAN                  821 non-null    float64\n",
      " 20  BE_ARTERIAL_MIN                   821 non-null    float64\n",
      " 21  BE_ARTERIAL_MAX                   821 non-null    float64\n",
      " 22  BE_ARTERIAL_DIFF                  821 non-null    float64\n",
      " 23  BE_VENOUS_MEDIAN                  821 non-null    float64\n",
      " 24  BE_VENOUS_MEAN                    821 non-null    float64\n",
      " 25  BE_VENOUS_MIN                     821 non-null    float64\n",
      " 26  BE_VENOUS_MAX                     821 non-null    float64\n",
      " 27  BE_VENOUS_DIFF                    821 non-null    float64\n",
      " 28  BIC_ARTERIAL_MEDIAN               821 non-null    float64\n",
      " 29  BIC_ARTERIAL_MEAN                 821 non-null    float64\n",
      " 30  BIC_ARTERIAL_MIN                  821 non-null    float64\n",
      " 31  BIC_ARTERIAL_MAX                  821 non-null    float64\n",
      " 32  BIC_ARTERIAL_DIFF                 821 non-null    float64\n",
      " 33  BIC_VENOUS_MEDIAN                 821 non-null    float64\n",
      " 34  BIC_VENOUS_MEAN                   821 non-null    float64\n",
      " 35  BIC_VENOUS_MIN                    821 non-null    float64\n",
      " 36  BIC_VENOUS_MAX                    821 non-null    float64\n",
      " 37  BIC_VENOUS_DIFF                   821 non-null    float64\n",
      " 38  BILLIRUBIN_MEDIAN                 821 non-null    float64\n",
      " 39  BILLIRUBIN_MEAN                   821 non-null    float64\n",
      " 40  BILLIRUBIN_MIN                    821 non-null    float64\n",
      " 41  BILLIRUBIN_MAX                    821 non-null    float64\n",
      " 42  BILLIRUBIN_DIFF                   821 non-null    float64\n",
      " 43  BLAST_MEDIAN                      821 non-null    float64\n",
      " 44  BLAST_MEAN                        821 non-null    float64\n",
      " 45  BLAST_MIN                         821 non-null    float64\n",
      " 46  BLAST_MAX                         821 non-null    float64\n",
      " 47  BLAST_DIFF                        821 non-null    float64\n",
      " 48  CALCIUM_MEDIAN                    821 non-null    float64\n",
      " 49  CALCIUM_MEAN                      821 non-null    float64\n",
      " 50  CALCIUM_MIN                       821 non-null    float64\n",
      " 51  CALCIUM_MAX                       821 non-null    float64\n",
      " 52  CALCIUM_DIFF                      821 non-null    float64\n",
      " 53  CREATININ_MEDIAN                  821 non-null    float64\n",
      " 54  CREATININ_MEAN                    821 non-null    float64\n",
      " 55  CREATININ_MIN                     821 non-null    float64\n",
      " 56  CREATININ_MAX                     821 non-null    float64\n",
      " 57  CREATININ_DIFF                    821 non-null    float64\n",
      " 58  FFA_MEDIAN                        821 non-null    float64\n",
      " 59  FFA_MEAN                          821 non-null    float64\n",
      " 60  FFA_MIN                           821 non-null    float64\n",
      " 61  FFA_MAX                           821 non-null    float64\n",
      " 62  FFA_DIFF                          821 non-null    float64\n",
      " 63  GGT_MEDIAN                        821 non-null    float64\n",
      " 64  GGT_MEAN                          821 non-null    float64\n",
      " 65  GGT_MIN                           821 non-null    float64\n",
      " 66  GGT_MAX                           821 non-null    float64\n",
      " 67  GGT_DIFF                          821 non-null    float64\n",
      " 68  GLUCOSE_MEDIAN                    821 non-null    float64\n",
      " 69  GLUCOSE_MEAN                      821 non-null    float64\n",
      " 70  GLUCOSE_MIN                       821 non-null    float64\n",
      " 71  GLUCOSE_MAX                       821 non-null    float64\n",
      " 72  GLUCOSE_DIFF                      821 non-null    float64\n",
      " 73  HEMATOCRITE_MEDIAN                821 non-null    float64\n",
      " 74  HEMATOCRITE_MEAN                  821 non-null    float64\n",
      " 75  HEMATOCRITE_MIN                   821 non-null    float64\n",
      " 76  HEMATOCRITE_MAX                   821 non-null    float64\n",
      " 77  HEMATOCRITE_DIFF                  821 non-null    float64\n",
      " 78  HEMOGLOBIN_MEDIAN                 821 non-null    float64\n",
      " 79  HEMOGLOBIN_MEAN                   821 non-null    float64\n",
      " 80  HEMOGLOBIN_MIN                    821 non-null    float64\n",
      " 81  HEMOGLOBIN_MAX                    821 non-null    float64\n",
      " 82  HEMOGLOBIN_DIFF                   821 non-null    float64\n",
      " 83  INR_MEDIAN                        821 non-null    float64\n",
      " 84  INR_MEAN                          821 non-null    float64\n",
      " 85  INR_MIN                           821 non-null    float64\n",
      " 86  INR_MAX                           821 non-null    float64\n",
      " 87  INR_DIFF                          821 non-null    float64\n",
      " 88  LACTATE_MEDIAN                    821 non-null    float64\n",
      " 89  LACTATE_MEAN                      821 non-null    float64\n",
      " 90  LACTATE_MIN                       821 non-null    float64\n",
      " 91  LACTATE_MAX                       821 non-null    float64\n",
      " 92  LACTATE_DIFF                      821 non-null    float64\n",
      " 93  LEUKOCYTES_MEDIAN                 821 non-null    float64\n",
      " 94  LEUKOCYTES_MEAN                   821 non-null    float64\n",
      " 95  LEUKOCYTES_MIN                    821 non-null    float64\n",
      " 96  LEUKOCYTES_MAX                    821 non-null    float64\n",
      " 97  LEUKOCYTES_DIFF                   821 non-null    float64\n",
      " 98  LINFOCITOS_MEDIAN                 821 non-null    float64\n",
      " 99  LINFOCITOS_MEAN                   821 non-null    float64\n",
      " 100 LINFOCITOS_MIN                    821 non-null    float64\n",
      " 101 LINFOCITOS_MAX                    821 non-null    float64\n",
      " 102 LINFOCITOS_DIFF                   821 non-null    float64\n",
      " 103 NEUTROPHILES_MEDIAN               821 non-null    float64\n",
      " 104 NEUTROPHILES_MEAN                 821 non-null    float64\n",
      " 105 NEUTROPHILES_MIN                  821 non-null    float64\n",
      " 106 NEUTROPHILES_MAX                  821 non-null    float64\n",
      " 107 NEUTROPHILES_DIFF                 821 non-null    float64\n",
      " 108 P02_ARTERIAL_MEDIAN               821 non-null    float64\n",
      " 109 P02_ARTERIAL_MEAN                 821 non-null    float64\n",
      " 110 P02_ARTERIAL_MIN                  821 non-null    float64\n",
      " 111 P02_ARTERIAL_MAX                  821 non-null    float64\n",
      " 112 P02_ARTERIAL_DIFF                 821 non-null    float64\n",
      " 113 P02_VENOUS_MEDIAN                 821 non-null    float64\n",
      " 114 P02_VENOUS_MEAN                   821 non-null    float64\n",
      " 115 P02_VENOUS_MIN                    821 non-null    float64\n",
      " 116 P02_VENOUS_MAX                    821 non-null    float64\n",
      " 117 P02_VENOUS_DIFF                   821 non-null    float64\n",
      " 118 PC02_ARTERIAL_MEDIAN              821 non-null    float64\n",
      " 119 PC02_ARTERIAL_MEAN                821 non-null    float64\n",
      " 120 PC02_ARTERIAL_MIN                 821 non-null    float64\n",
      " 121 PC02_ARTERIAL_MAX                 821 non-null    float64\n",
      " 122 PC02_ARTERIAL_DIFF                821 non-null    float64\n",
      " 123 PC02_VENOUS_MEDIAN                821 non-null    float64\n",
      " 124 PC02_VENOUS_MEAN                  821 non-null    float64\n",
      " 125 PC02_VENOUS_MIN                   821 non-null    float64\n",
      " 126 PC02_VENOUS_MAX                   821 non-null    float64\n",
      " 127 PC02_VENOUS_DIFF                  821 non-null    float64\n",
      " 128 PCR_MEDIAN                        821 non-null    float64\n",
      " 129 PCR_MEAN                          821 non-null    float64\n",
      " 130 PCR_MIN                           821 non-null    float64\n",
      " 131 PCR_MAX                           821 non-null    float64\n",
      " 132 PCR_DIFF                          821 non-null    float64\n",
      " 133 PH_ARTERIAL_MEDIAN                821 non-null    float64\n",
      " 134 PH_ARTERIAL_MEAN                  821 non-null    float64\n",
      " 135 PH_ARTERIAL_MIN                   821 non-null    float64\n",
      " 136 PH_ARTERIAL_MAX                   821 non-null    float64\n",
      " 137 PH_ARTERIAL_DIFF                  821 non-null    float64\n",
      " 138 PH_VENOUS_MEDIAN                  821 non-null    float64\n",
      " 139 PH_VENOUS_MEAN                    821 non-null    float64\n",
      " 140 PH_VENOUS_MIN                     821 non-null    float64\n",
      " 141 PH_VENOUS_MAX                     821 non-null    float64\n",
      " 142 PH_VENOUS_DIFF                    821 non-null    float64\n",
      " 143 PLATELETS_MEDIAN                  821 non-null    float64\n",
      " 144 PLATELETS_MEAN                    821 non-null    float64\n",
      " 145 PLATELETS_MIN                     821 non-null    float64\n",
      " 146 PLATELETS_MAX                     821 non-null    float64\n",
      " 147 PLATELETS_DIFF                    821 non-null    float64\n",
      " 148 POTASSIUM_MEDIAN                  821 non-null    float64\n",
      " 149 POTASSIUM_MEAN                    821 non-null    float64\n",
      " 150 POTASSIUM_MIN                     821 non-null    float64\n",
      " 151 POTASSIUM_MAX                     821 non-null    float64\n",
      " 152 POTASSIUM_DIFF                    821 non-null    float64\n",
      " 153 SAT02_ARTERIAL_MEDIAN             821 non-null    float64\n",
      " 154 SAT02_ARTERIAL_MEAN               821 non-null    float64\n",
      " 155 SAT02_ARTERIAL_MIN                821 non-null    float64\n",
      " 156 SAT02_ARTERIAL_MAX                821 non-null    float64\n",
      " 157 SAT02_ARTERIAL_DIFF               821 non-null    float64\n",
      " 158 SAT02_VENOUS_MEDIAN               821 non-null    float64\n",
      " 159 SAT02_VENOUS_MEAN                 821 non-null    float64\n",
      " 160 SAT02_VENOUS_MIN                  821 non-null    float64\n",
      " 161 SAT02_VENOUS_MAX                  821 non-null    float64\n",
      " 162 SAT02_VENOUS_DIFF                 821 non-null    float64\n",
      " 163 SODIUM_MEDIAN                     821 non-null    float64\n",
      " 164 SODIUM_MEAN                       821 non-null    float64\n",
      " 165 SODIUM_MIN                        821 non-null    float64\n",
      " 166 SODIUM_MAX                        821 non-null    float64\n",
      " 167 SODIUM_DIFF                       821 non-null    float64\n",
      " 168 TGO_MEDIAN                        821 non-null    float64\n",
      " 169 TGO_MEAN                          821 non-null    float64\n",
      " 170 TGO_MIN                           821 non-null    float64\n",
      " 171 TGO_MAX                           821 non-null    float64\n",
      " 172 TGO_DIFF                          821 non-null    float64\n",
      " 173 TGP_MEDIAN                        821 non-null    float64\n",
      " 174 TGP_MEAN                          821 non-null    float64\n",
      " 175 TGP_MIN                           821 non-null    float64\n",
      " 176 TGP_MAX                           821 non-null    float64\n",
      " 177 TGP_DIFF                          821 non-null    float64\n",
      " 178 TTPA_MEDIAN                       821 non-null    float64\n",
      " 179 TTPA_MEAN                         821 non-null    float64\n",
      " 180 TTPA_MIN                          821 non-null    float64\n",
      " 181 TTPA_MAX                          821 non-null    float64\n",
      " 182 TTPA_DIFF                         821 non-null    float64\n",
      " 183 UREA_MEDIAN                       821 non-null    float64\n",
      " 184 UREA_MEAN                         821 non-null    float64\n",
      " 185 UREA_MIN                          821 non-null    float64\n",
      " 186 UREA_MAX                          821 non-null    float64\n",
      " 187 UREA_DIFF                         821 non-null    float64\n",
      " 188 DIMER_MEDIAN                      821 non-null    float64\n",
      " 189 DIMER_MEAN                        821 non-null    float64\n",
      " 190 DIMER_MIN                         821 non-null    float64\n",
      " 191 DIMER_MAX                         821 non-null    float64\n",
      " 192 DIMER_DIFF                        821 non-null    float64\n",
      " 193 BLOODPRESSURE_DIASTOLIC_MEAN      1240 non-null   float64\n",
      " 194 BLOODPRESSURE_SISTOLIC_MEAN       1240 non-null   float64\n",
      " 195 HEART_RATE_MEAN                   1240 non-null   float64\n",
      " 196 RESPIRATORY_RATE_MEAN             1177 non-null   float64\n",
      " 197 TEMPERATURE_MEAN                  1231 non-null   float64\n",
      " 198 OXYGEN_SATURATION_MEAN            1239 non-null   float64\n",
      " 199 BLOODPRESSURE_DIASTOLIC_MEDIAN    1240 non-null   float64\n",
      " 200 BLOODPRESSURE_SISTOLIC_MEDIAN     1240 non-null   float64\n",
      " 201 HEART_RATE_MEDIAN                 1240 non-null   float64\n",
      " 202 RESPIRATORY_RATE_MEDIAN           1177 non-null   float64\n",
      " 203 TEMPERATURE_MEDIAN                1231 non-null   float64\n",
      " 204 OXYGEN_SATURATION_MEDIAN          1239 non-null   float64\n",
      " 205 BLOODPRESSURE_DIASTOLIC_MIN       1240 non-null   float64\n",
      " 206 BLOODPRESSURE_SISTOLIC_MIN        1240 non-null   float64\n",
      " 207 HEART_RATE_MIN                    1240 non-null   float64\n",
      " 208 RESPIRATORY_RATE_MIN              1177 non-null   float64\n",
      " 209 TEMPERATURE_MIN                   1231 non-null   float64\n",
      " 210 OXYGEN_SATURATION_MIN             1239 non-null   float64\n",
      " 211 BLOODPRESSURE_DIASTOLIC_MAX       1240 non-null   float64\n",
      " 212 BLOODPRESSURE_SISTOLIC_MAX        1240 non-null   float64\n",
      " 213 HEART_RATE_MAX                    1240 non-null   float64\n",
      " 214 RESPIRATORY_RATE_MAX              1177 non-null   float64\n",
      " 215 TEMPERATURE_MAX                   1231 non-null   float64\n",
      " 216 OXYGEN_SATURATION_MAX             1239 non-null   float64\n",
      " 217 BLOODPRESSURE_DIASTOLIC_DIFF      1240 non-null   float64\n",
      " 218 BLOODPRESSURE_SISTOLIC_DIFF       1240 non-null   float64\n",
      " 219 HEART_RATE_DIFF                   1240 non-null   float64\n",
      " 220 RESPIRATORY_RATE_DIFF             1177 non-null   float64\n",
      " 221 TEMPERATURE_DIFF                  1231 non-null   float64\n",
      " 222 OXYGEN_SATURATION_DIFF            1239 non-null   float64\n",
      " 223 BLOODPRESSURE_DIASTOLIC_DIFF_REL  1240 non-null   float64\n",
      " 224 BLOODPRESSURE_SISTOLIC_DIFF_REL   1240 non-null   float64\n",
      " 225 HEART_RATE_DIFF_REL               1240 non-null   float64\n",
      " 226 RESPIRATORY_RATE_DIFF_REL         1177 non-null   float64\n",
      " 227 TEMPERATURE_DIFF_REL              1231 non-null   float64\n",
      " 228 OXYGEN_SATURATION_DIFF_REL        1239 non-null   float64\n",
      " 229 WINDOW                            1925 non-null   object \n",
      " 230 ICU                               1925 non-null   int64  \n",
      "dtypes: float64(225), int64(4), object(2)\n",
      "memory usage: 3.4+ MB\n",
      "None\n"
     ]
    }
   ],
   "source": [
    "data = pd.read_csv(\"Kaggle_Sirio_Libanes_ICU_Prediction.csv\")\n",
    "print(data.shape)\n",
    "print(data.info(verbose=True,null_counts=True))"
   ]
  },
  {
   "cell_type": "code",
   "execution_count": 9,
   "metadata": {},
   "outputs": [
    {
     "data": {
      "text/plain": [
       "count    821.000000\n",
       "mean       0.267131\n",
       "std        0.923557\n",
       "min       -1.000000\n",
       "25%       -0.894695\n",
       "50%        1.000000\n",
       "75%        1.000000\n",
       "max        1.000000\n",
       "Name: LACTATE_MEAN, dtype: float64"
      ]
     },
     "execution_count": 9,
     "metadata": {},
     "output_type": "execute_result"
    }
   ],
   "source": [
    "data['LACTATE_MEAN'].describe()"
   ]
  },
  {
   "cell_type": "code",
   "execution_count": 6,
   "metadata": {},
   "outputs": [],
   "source": [
    "\n",
    "data_y = data.loc[:,'ICU']\n"
   ]
  },
  {
   "cell_type": "markdown",
   "metadata": {},
   "source": [
    "respiratory rate, lactate, blood pressure(diastolic and systolic), neutrophils, oxygen saturation level, immature grans(Abs),\n",
    "hemoglobin, procalcitonin, erythrocyte sedimentation rates, brain natriuretic peptide, ferritin, D-Dimer, platelets\n",
    "hematocrit, base excess venous and arterial, albumin, urea"
   ]
  },
  {
   "cell_type": "code",
   "execution_count": 15,
   "metadata": {},
   "outputs": [],
   "source": [
    "x_column = ['RESPIRATORY_RATE_MEAN'\n",
    "            ,'LACTATE_MEAN'\n",
    "            ,'BLOODPRESSURE_DIASTOLIC_MEAN'\n",
    "            ,'BLOODPRESSURE_SISTOLIC_MEAN'\n",
    "           ,'NEUTROPHILES_MEAN'\n",
    "            ,'OXYGEN_SATURATION_MEAN'\n",
    "            ,'HEMOGLOBIN_MEAN'\n",
    "           ,'UREA_MEAN'\n",
    "           ,'DIMER_MEAN'\n",
    "           ,'PLATELETS_MEAN'\n",
    "           ,'HEMATOCRITE_MEAN']"
   ]
  },
  {
   "cell_type": "code",
   "execution_count": 16,
   "metadata": {},
   "outputs": [],
   "source": [
    "data_x = data.loc[:,x_column]"
   ]
  },
  {
   "cell_type": "code",
   "execution_count": 45,
   "metadata": {},
   "outputs": [],
   "source": [
    "Xtrain,Xtest,Ytrain,Ytest = train_test_split(data_x,data_y,test_size=0.3,random_state=111)\n"
   ]
  },
  {
   "cell_type": "code",
   "execution_count": 46,
   "metadata": {},
   "outputs": [
    {
     "name": "stdout",
     "output_type": "stream",
     "text": [
      "(1347, 11)\n",
      "(578, 11)\n"
     ]
    }
   ],
   "source": [
    "print(Xtrain.shape)\n",
    "print(Xtest.shape)"
   ]
  },
  {
   "cell_type": "code",
   "execution_count": 48,
   "metadata": {},
   "outputs": [],
   "source": [
    "clf = XGBC().fit(Xtrain,Ytrain)\n",
    "\n",
    "\n"
   ]
  },
  {
   "cell_type": "code",
   "execution_count": 59,
   "metadata": {},
   "outputs": [
    {
     "name": "stdout",
     "output_type": "stream",
     "text": [
      "accuracy 0.870242214532872\n",
      "precision 0.7698412698412699\n",
      "recall 0.6783216783216783\n",
      "f1 0.721189591078067\n"
     ]
    }
   ],
   "source": [
    "ypred = clf.predict(Xtest)\n",
    "accuracy = accuracy_score(Ytest,ypred)\n",
    "precision = precision_score(Ytest,ypred)\n",
    "recall = recall_score(Ytest,ypred)\n",
    "f1 = f1_score(Ytest,ypred)\n",
    "print(\"accuracy\",accuracy)\n",
    "print(\"precision\",precision)\n",
    "print(\"recall\",recall)\n",
    "print(\"f1\",f1)"
   ]
  },
  {
   "cell_type": "code",
   "execution_count": null,
   "metadata": {},
   "outputs": [],
   "source": []
  },
  {
   "cell_type": "code",
   "execution_count": 53,
   "metadata": {},
   "outputs": [
    {
     "data": {
      "text/plain": [
       "0.8694558315247969"
      ]
     },
     "execution_count": 53,
     "metadata": {},
     "output_type": "execute_result"
    }
   ],
   "source": [
    "recall(Ytest,ypred)\n",
    "auc(Ytest,clf.predict_proba(Xtest)[:,1])"
   ]
  },
  {
   "cell_type": "code",
   "execution_count": 49,
   "metadata": {},
   "outputs": [
    {
     "data": {
      "text/plain": [
       "0.8540390643838919"
      ]
     },
     "execution_count": 49,
     "metadata": {},
     "output_type": "execute_result"
    }
   ],
   "source": [
    "#负/正样本比例\n",
    "clf_ = XGBC(scale_pos_weight=10).fit(Xtrain,Ytrain)\n",
    "ypred_ = clf_.predict(Xtest)\n",
    "clf_.score(Xtest,Ytest)\n",
    "cm(Ytest,ypred_,labels=[1,0])\n",
    "recall(Ytest,ypred_)\n",
    "auc(Ytest,clf_.predict_proba(Xtest)[:,1])"
   ]
  },
  {
   "cell_type": "code",
   "execution_count": null,
   "metadata": {},
   "outputs": [],
   "source": [
    "#随着样本权重逐渐增加，模型的recall,auc和准确率如何变化？\n",
    "for i in [1,5,10,20,30]:\n",
    "clf_ = XGBC(scale_pos_weight=i).fit(Xtrain,Ytrain)"
   ]
  }
 ],
 "metadata": {
  "kernelspec": {
   "display_name": "Python 3",
   "language": "python",
   "name": "python3"
  },
  "language_info": {
   "codemirror_mode": {
    "name": "ipython",
    "version": 3
   },
   "file_extension": ".py",
   "mimetype": "text/x-python",
   "name": "python",
   "nbconvert_exporter": "python",
   "pygments_lexer": "ipython3",
   "version": "3.8.3"
  }
 },
 "nbformat": 4,
 "nbformat_minor": 4
}
